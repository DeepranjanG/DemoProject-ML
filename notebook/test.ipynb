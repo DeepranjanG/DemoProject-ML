{
 "cells": [
  {
   "cell_type": "code",
   "execution_count": 1,
   "id": "6ca5811d",
   "metadata": {},
   "outputs": [],
   "source": [
    "import sys"
   ]
  },
  {
   "cell_type": "code",
   "execution_count": 3,
   "id": "08102571",
   "metadata": {},
   "outputs": [],
   "source": [
    "_,_,exec_tb = sys.exc_info()"
   ]
  },
  {
   "cell_type": "code",
   "execution_count": 4,
   "id": "c8709eb4",
   "metadata": {},
   "outputs": [],
   "source": [
    "exec_tb."
   ]
  },
  {
   "cell_type": "code",
   "execution_count": null,
   "id": "79161bad",
   "metadata": {},
   "outputs": [],
   "source": []
  }
 ],
 "metadata": {
  "kernelspec": {
   "display_name": "Python 3 (ipykernel)",
   "language": "python",
   "name": "python3"
  },
  "language_info": {
   "codemirror_mode": {
    "name": "ipython",
    "version": 3
   },
   "file_extension": ".py",
   "mimetype": "text/x-python",
   "name": "python",
   "nbconvert_exporter": "python",
   "pygments_lexer": "ipython3",
   "version": "3.9.12"
  }
 },
 "nbformat": 4,
 "nbformat_minor": 5
}
